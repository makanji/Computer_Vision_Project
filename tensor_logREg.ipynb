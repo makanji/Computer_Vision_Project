{
 "cells": [
  {
   "cell_type": "code",
   "execution_count": 3,
   "id": "ac2b83b6",
   "metadata": {},
   "outputs": [
    {
     "name": "stdout",
     "output_type": "stream",
     "text": [
      "Looking in links: https://download.pytorch.org/whl/torch_stable.html\n",
      "Requirement already satisfied: numpy in c:\\users\\ittaste\\anaconda3\\envs\\updated new env\\lib\\site-packages (1.21.5)\n",
      "Collecting torch==1.7.0+cpu\n",
      "  Downloading https://download.pytorch.org/whl/cpu/torch-1.7.0%2Bcpu-cp38-cp38-win_amd64.whl (184.2 MB)\n",
      "Collecting torchvision==0.8.1+cpu\n",
      "  Downloading https://download.pytorch.org/whl/cpu/torchvision-0.8.1%2Bcpu-cp38-cp38-win_amd64.whl (808 kB)\n",
      "Collecting torchaudio==0.7.0\n",
      "  Downloading https://download.pytorch.org/whl/torchaudio-0.7.0-cp38-none-win_amd64.whl (103 kB)\n",
      "Collecting dataclasses\n",
      "  Downloading dataclasses-0.6-py3-none-any.whl (14 kB)\n",
      "Requirement already satisfied: typing-extensions in c:\\users\\ittaste\\anaconda3\\envs\\updated new env\\lib\\site-packages (from torch==1.7.0+cpu) (4.0.1)\n",
      "Collecting future\n",
      "  Downloading future-0.18.2.tar.gz (829 kB)\n",
      "Requirement already satisfied: pillow>=4.1.1 in c:\\users\\ittaste\\anaconda3\\envs\\updated new env\\lib\\site-packages (from torchvision==0.8.1+cpu) (9.0.1)\n",
      "Building wheels for collected packages: future\n",
      "  Building wheel for future (setup.py): started\n",
      "  Building wheel for future (setup.py): finished with status 'done'\n",
      "  Created wheel for future: filename=future-0.18.2-py3-none-any.whl size=491070 sha256=79e52539421332ad1d9b808a98b1e45280b5e9705462473221c645516d7f1ecc\n",
      "  Stored in directory: c:\\users\\ittaste\\appdata\\local\\pip\\cache\\wheels\\8e\\70\\28\\3d6ccd6e315f65f245da085482a2e1c7d14b90b30f239e2cf4\n",
      "Successfully built future\n",
      "Installing collected packages: future, dataclasses, torch, torchvision, torchaudio\n",
      "Successfully installed dataclasses-0.6 future-0.18.2 torch-1.7.0+cpu torchaudio-0.7.0 torchvision-0.8.1+cpu\n"
     ]
    }
   ],
   "source": [
    "!pip install numpy torch==1.7.0+cpu torchvision==0.8.1+cpu torchaudio==0.7.0 -f https://download.pytorch.org/whl/torch_stable.html\n"
   ]
  },
  {
   "cell_type": "code",
   "execution_count": 70,
   "id": "f5d07ec4",
   "metadata": {},
   "outputs": [],
   "source": [
    "import torch\n",
    "import numpy as np"
   ]
  },
  {
   "cell_type": "code",
   "execution_count": 47,
   "id": "876694a3",
   "metadata": {},
   "outputs": [],
   "source": [
    "t1 = torch.tensor([4.])"
   ]
  },
  {
   "cell_type": "code",
   "execution_count": 48,
   "id": "d801f917",
   "metadata": {},
   "outputs": [
    {
     "data": {
      "text/plain": [
       "torch.Size([1])"
      ]
     },
     "execution_count": 48,
     "metadata": {},
     "output_type": "execute_result"
    }
   ],
   "source": [
    "t1.shape\n"
   ]
  },
  {
   "cell_type": "code",
   "execution_count": 8,
   "id": "6c6cb764",
   "metadata": {},
   "outputs": [
    {
     "data": {
      "text/plain": [
       "torch.float32"
      ]
     },
     "execution_count": 8,
     "metadata": {},
     "output_type": "execute_result"
    }
   ],
   "source": [
    "t1.dtype"
   ]
  },
  {
   "cell_type": "code",
   "execution_count": 13,
   "id": "c7b287f7",
   "metadata": {},
   "outputs": [],
   "source": [
    "k =4.6"
   ]
  },
  {
   "cell_type": "code",
   "execution_count": 14,
   "id": "2c32aba9",
   "metadata": {},
   "outputs": [
    {
     "data": {
      "text/plain": [
       "float"
      ]
     },
     "execution_count": 14,
     "metadata": {},
     "output_type": "execute_result"
    }
   ],
   "source": [
    "type(k)"
   ]
  },
  {
   "cell_type": "code",
   "execution_count": 12,
   "id": "504195be",
   "metadata": {},
   "outputs": [
    {
     "data": {
      "text/plain": [
       "torch.Tensor"
      ]
     },
     "execution_count": 12,
     "metadata": {},
     "output_type": "execute_result"
    }
   ],
   "source": [
    "type(t1)"
   ]
  },
  {
   "cell_type": "code",
   "execution_count": 31,
   "id": "77dab685",
   "metadata": {},
   "outputs": [],
   "source": [
    "t2 = torch.tensor([1., 2, 3, 4,5])"
   ]
  },
  {
   "cell_type": "code",
   "execution_count": 36,
   "id": "d92aabb7",
   "metadata": {},
   "outputs": [
    {
     "name": "stdout",
     "output_type": "stream",
     "text": [
      "1\n"
     ]
    },
    {
     "data": {
      "text/plain": [
       "torch.Size([5])"
      ]
     },
     "execution_count": 36,
     "metadata": {},
     "output_type": "execute_result"
    }
   ],
   "source": [
    "print(t2.ndim)\n",
    "t2.shape"
   ]
  },
  {
   "cell_type": "code",
   "execution_count": 26,
   "id": "9332a772",
   "metadata": {},
   "outputs": [],
   "source": [
    "# Matrix\n",
    "t3 = torch.tensor([[5., 6], \n",
    "                   [7, 8], \n",
    "                   [9, 10]])"
   ]
  },
  {
   "cell_type": "code",
   "execution_count": 28,
   "id": "c29dd252",
   "metadata": {},
   "outputs": [
    {
     "data": {
      "text/plain": [
       "tensor([[ 5.,  6.],\n",
       "        [ 7.,  8.],\n",
       "        [ 9., 10.]])"
      ]
     },
     "execution_count": 28,
     "metadata": {},
     "output_type": "execute_result"
    }
   ],
   "source": [
    "t3"
   ]
  },
  {
   "cell_type": "code",
   "execution_count": 33,
   "id": "b4fc23af",
   "metadata": {},
   "outputs": [
    {
     "data": {
      "text/plain": [
       "torch.Size([3, 2])"
      ]
     },
     "execution_count": 33,
     "metadata": {},
     "output_type": "execute_result"
    }
   ],
   "source": [
    "t3.shape"
   ]
  },
  {
   "cell_type": "code",
   "execution_count": 35,
   "id": "7b0c8752",
   "metadata": {},
   "outputs": [
    {
     "data": {
      "text/plain": [
       "2"
      ]
     },
     "execution_count": 35,
     "metadata": {},
     "output_type": "execute_result"
    }
   ],
   "source": [
    "t3.ndim"
   ]
  },
  {
   "cell_type": "code",
   "execution_count": 42,
   "id": "6d4deec8",
   "metadata": {},
   "outputs": [],
   "source": [
    "#3 dimenssional array\n",
    "t4 = torch.tensor([\n",
    " [[2,3,4], \n",
    " [4,7,5]],\n",
    " [[5,8,7], \n",
    " [4,6,7]]])"
   ]
  },
  {
   "cell_type": "code",
   "execution_count": 44,
   "id": "fdd96a14",
   "metadata": {},
   "outputs": [
    {
     "name": "stdout",
     "output_type": "stream",
     "text": [
      "torch.Size([2, 2, 3])\n"
     ]
    },
    {
     "data": {
      "text/plain": [
       "3"
      ]
     },
     "execution_count": 44,
     "metadata": {},
     "output_type": "execute_result"
    }
   ],
   "source": [
    "print(t4.shape)\n",
    "t4.ndim"
   ]
  },
  {
   "cell_type": "code",
   "execution_count": 49,
   "id": "3885dee4",
   "metadata": {},
   "outputs": [
    {
     "data": {
      "text/plain": [
       "torch.Size([1])"
      ]
     },
     "execution_count": 49,
     "metadata": {},
     "output_type": "execute_result"
    }
   ],
   "source": [
    "t1.shape"
   ]
  },
  {
   "cell_type": "code",
   "execution_count": 50,
   "id": "76dcc1e4",
   "metadata": {},
   "outputs": [
    {
     "data": {
      "text/plain": [
       "(tensor(3.), tensor(4., requires_grad=True), tensor(5., requires_grad=True))"
      ]
     },
     "execution_count": 50,
     "metadata": {},
     "output_type": "execute_result"
    }
   ],
   "source": [
    "#create tensors\n",
    "x = torch.tensor(3.)\n",
    "w = torch.tensor(4., requires_grad=True)\n",
    "b = torch.tensor(5., requires_grad=True)\n",
    "x, w, b"
   ]
  },
  {
   "cell_type": "code",
   "execution_count": 57,
   "id": "3bf1d5aa",
   "metadata": {},
   "outputs": [
    {
     "data": {
      "text/plain": [
       "tensor(17., grad_fn=<AddBackward0>)"
      ]
     },
     "execution_count": 57,
     "metadata": {},
     "output_type": "execute_result"
    }
   ],
   "source": [
    "# Arithmetic operations\n",
    "y = w * x + b\n",
    "y\n",
    "#using .backwrd to access the auto gradient function"
   ]
  },
  {
   "cell_type": "code",
   "execution_count": 58,
   "id": "720cdb40",
   "metadata": {},
   "outputs": [],
   "source": [
    "y.backward()"
   ]
  },
  {
   "cell_type": "code",
   "execution_count": 59,
   "id": "a6c9ed87",
   "metadata": {},
   "outputs": [
    {
     "data": {
      "text/plain": [
       "tensor(6.)"
      ]
     },
     "execution_count": 59,
     "metadata": {},
     "output_type": "execute_result"
    }
   ],
   "source": [
    "w.grad"
   ]
  },
  {
   "cell_type": "code",
   "execution_count": 60,
   "id": "c62301cc",
   "metadata": {},
   "outputs": [
    {
     "data": {
      "text/plain": [
       "tensor(4.)"
      ]
     },
     "execution_count": 60,
     "metadata": {},
     "output_type": "execute_result"
    }
   ],
   "source": [
    "b.grad"
   ]
  },
  {
   "cell_type": "code",
   "execution_count": 63,
   "id": "94ed9c9e",
   "metadata": {},
   "outputs": [
    {
     "name": "stdout",
     "output_type": "stream",
     "text": [
      "dy/dx: None\n",
      "dy/dw: tensor(6.)\n",
      "dy/db: tensor(4.)\n"
     ]
    }
   ],
   "source": [
    "# Display gradients\n",
    "print('dy/dx:', x.grad)\n",
    "print('dy/dw:', w.grad)\n",
    "print('dy/db:', b.grad)"
   ]
  },
  {
   "cell_type": "code",
   "execution_count": 64,
   "id": "dd762fc7",
   "metadata": {},
   "outputs": [],
   "source": [
    "#tensor functions\n"
   ]
  },
  {
   "cell_type": "code",
   "execution_count": 65,
   "id": "e2d34798",
   "metadata": {},
   "outputs": [
    {
     "data": {
      "text/plain": [
       "tensor([[42, 42],\n",
       "        [42, 42],\n",
       "        [42, 42]])"
      ]
     },
     "execution_count": 65,
     "metadata": {},
     "output_type": "execute_result"
    }
   ],
   "source": [
    "# Create a tensor with a fixed value for every element\n",
    "t6 = torch.full((3, 2), 42)\n",
    "t6"
   ]
  },
  {
   "cell_type": "code",
   "execution_count": 67,
   "id": "eb411605",
   "metadata": {},
   "outputs": [
    {
     "data": {
      "text/plain": [
       "tensor([[ 5.,  6.],\n",
       "        [ 7.,  8.],\n",
       "        [ 9., 10.]])"
      ]
     },
     "execution_count": 67,
     "metadata": {},
     "output_type": "execute_result"
    }
   ],
   "source": [
    "t3"
   ]
  },
  {
   "cell_type": "code",
   "execution_count": 69,
   "id": "e2027600",
   "metadata": {},
   "outputs": [
    {
     "data": {
      "text/plain": [
       "tensor([[42., 42.],\n",
       "        [42., 42.],\n",
       "        [42., 42.],\n",
       "        [ 5.,  6.],\n",
       "        [ 7.,  8.],\n",
       "        [ 9., 10.]])"
      ]
     },
     "execution_count": 69,
     "metadata": {},
     "output_type": "execute_result"
    }
   ],
   "source": [
    "torch.cat([t6, t3])"
   ]
  },
  {
   "cell_type": "code",
   "execution_count": 79,
   "id": "e32b1165",
   "metadata": {},
   "outputs": [],
   "source": [
    "#linear regression using SGD\n",
    "#inputs\n",
    "inputs = np.array([[73,67,43],\n",
    "          [91,88,64],\n",
    "          [87,134,58],\n",
    "          [102,43,37],\n",
    "          [69,96,70]], dtype ='float32')\n",
    "                   "
   ]
  },
  {
   "cell_type": "code",
   "execution_count": 80,
   "id": "2d811c55",
   "metadata": {},
   "outputs": [
    {
     "data": {
      "text/plain": [
       "array([[ 73.,  67.,  43.],\n",
       "       [ 91.,  88.,  64.],\n",
       "       [ 87., 134.,  58.],\n",
       "       [102.,  43.,  37.],\n",
       "       [ 69.,  96.,  70.]], dtype=float32)"
      ]
     },
     "execution_count": 80,
     "metadata": {},
     "output_type": "execute_result"
    }
   ],
   "source": [
    "inputs"
   ]
  },
  {
   "cell_type": "code",
   "execution_count": 84,
   "id": "3ec8a398",
   "metadata": {},
   "outputs": [],
   "source": [
    "yields = np.array([\n",
    "    [56,70],\n",
    "    [81,101],\n",
    "    [119,133],\n",
    "    [22,37],\n",
    "    [103,119], \n",
    "], dtype ='float32')"
   ]
  },
  {
   "cell_type": "code",
   "execution_count": 85,
   "id": "a34ac386",
   "metadata": {},
   "outputs": [
    {
     "data": {
      "text/plain": [
       "array([[ 56.,  70.],\n",
       "       [ 81., 101.],\n",
       "       [119., 133.],\n",
       "       [ 22.,  37.],\n",
       "       [103., 119.]], dtype=float32)"
      ]
     },
     "execution_count": 85,
     "metadata": {},
     "output_type": "execute_result"
    }
   ],
   "source": [
    "yields"
   ]
  },
  {
   "cell_type": "code",
   "execution_count": 77,
   "id": "0c7761b6",
   "metadata": {},
   "outputs": [
    {
     "data": {
      "text/plain": [
       "dtype('int32')"
      ]
     },
     "execution_count": 77,
     "metadata": {},
     "output_type": "execute_result"
    }
   ],
   "source": [
    "yields.dtype"
   ]
  },
  {
   "cell_type": "code",
   "execution_count": 86,
   "id": "e659e9d1",
   "metadata": {},
   "outputs": [],
   "source": [
    "#making numpy arrays to tensor\n",
    "inputs = torch.from_numpy(inputs)\n",
    "yields = torch.from_numpy(yields)"
   ]
  },
  {
   "cell_type": "code",
   "execution_count": 87,
   "id": "642d1b1b",
   "metadata": {},
   "outputs": [
    {
     "data": {
      "text/plain": [
       "2"
      ]
     },
     "execution_count": 87,
     "metadata": {},
     "output_type": "execute_result"
    }
   ],
   "source": [
    "yields.ndim"
   ]
  },
  {
   "cell_type": "code",
   "execution_count": 88,
   "id": "7b4d2849",
   "metadata": {},
   "outputs": [
    {
     "name": "stdout",
     "output_type": "stream",
     "text": [
      "tensor([[ 0.1897,  1.3556, -0.4686],\n",
      "        [ 0.4000, -0.1889,  0.2567]], requires_grad=True)\n",
      "tensor([-0.8902,  0.4861], requires_grad=True)\n"
     ]
    }
   ],
   "source": [
    "# Weights and biases\n",
    "w = torch.randn(2, 3, requires_grad=True)\n",
    "b = torch.randn(2, requires_grad=True)\n",
    "print(w)\n",
    "print(b)"
   ]
  },
  {
   "cell_type": "code",
   "execution_count": 89,
   "id": "9225e397",
   "metadata": {},
   "outputs": [],
   "source": [
    "def model(x):\n",
    "    return x @w.t() + b #.t()-> transpose"
   ]
  },
  {
   "cell_type": "code",
   "execution_count": 90,
   "id": "0bf2fde9",
   "metadata": {},
   "outputs": [
    {
     "name": "stdout",
     "output_type": "stream",
     "text": [
      "<function model at 0x0000027F12A70F70>\n"
     ]
    }
   ],
   "source": [
    "print(model)"
   ]
  },
  {
   "cell_type": "code",
   "execution_count": 148,
   "id": "d612578c",
   "metadata": {},
   "outputs": [],
   "source": [
    "preds = model(inputs)"
   ]
  },
  {
   "cell_type": "code",
   "execution_count": 149,
   "id": "bf71aa69",
   "metadata": {},
   "outputs": [
    {
     "name": "stdout",
     "output_type": "stream",
     "text": [
      "tensor([[ 75.0282,  46.6767],\n",
      "        [ 94.3992,  61.2147],\n",
      "        [156.7856,  54.3500],\n",
      "        [ 50.7426,  60.5958],\n",
      "        [ 98.7993,  51.7768]], grad_fn=<AddBackward0>)\n"
     ]
    }
   ],
   "source": [
    "print(preds)"
   ]
  },
  {
   "cell_type": "code",
   "execution_count": 138,
   "id": "53111049",
   "metadata": {},
   "outputs": [
    {
     "name": "stdout",
     "output_type": "stream",
     "text": [
      "tensor([[ 75.0282,  46.6767],\n",
      "        [ 94.3992,  61.2147],\n",
      "        [156.7856,  54.3500],\n",
      "        [ 50.7426,  60.5958],\n",
      "        [ 98.7993,  51.7768]], grad_fn=<AddBackward0>)\n"
     ]
    }
   ],
   "source": [
    "print(preds)"
   ]
  },
  {
   "cell_type": "code",
   "execution_count": 93,
   "id": "517b0113",
   "metadata": {},
   "outputs": [
    {
     "name": "stdout",
     "output_type": "stream",
     "text": [
      "tensor([[ 56.,  70.],\n",
      "        [ 81., 101.],\n",
      "        [119., 133.],\n",
      "        [ 22.,  37.],\n",
      "        [103., 119.]])\n"
     ]
    }
   ],
   "source": [
    "print(yields)"
   ]
  },
  {
   "cell_type": "code",
   "execution_count": 104,
   "id": "e7064ac1",
   "metadata": {},
   "outputs": [],
   "source": [
    "#MSE \n",
    "def mse (k1,k2):\n",
    "    diff = k1-k2\n",
    "    return torch.sum(diff*diff)/diff.numel()"
   ]
  },
  {
   "cell_type": "code",
   "execution_count": 122,
   "id": "534073ec",
   "metadata": {},
   "outputs": [
    {
     "name": "stdout",
     "output_type": "stream",
     "text": [
      "tensor(3133.9976, grad_fn=<DivBackward0>)\n"
     ]
    }
   ],
   "source": [
    "#compute loss using\n",
    "loss = mse(preds, yields)\n",
    "print(loss)"
   ]
  },
  {
   "cell_type": "code",
   "execution_count": 124,
   "id": "5ffe9ff5",
   "metadata": {},
   "outputs": [
    {
     "data": {
      "text/plain": [
       "<bound method Tensor.backward of tensor(3133.9976, grad_fn=<DivBackward0>)>"
      ]
     },
     "execution_count": 124,
     "metadata": {},
     "output_type": "execute_result"
    }
   ],
   "source": [
    "#computing gradient descents\n",
    "#copmute gradiesnt\n",
    "loss.backward"
   ]
  },
  {
   "cell_type": "code",
   "execution_count": 125,
   "id": "2dc8967c",
   "metadata": {},
   "outputs": [
    {
     "name": "stdout",
     "output_type": "stream",
     "text": [
      "tensor([[ 0.1897,  1.3556, -0.4686],\n",
      "        [ 0.4000, -0.1889,  0.2567]], requires_grad=True)\n",
      "tensor([[ 2594.7803,  2620.8142,  1514.3921],\n",
      "        [-4805.7163, -6291.9224, -3671.4341]])\n"
     ]
    }
   ],
   "source": [
    "#gradients for weights\n",
    "print(w)\n",
    "print(w.grad)"
   ]
  },
  {
   "cell_type": "code",
   "execution_count": 127,
   "id": "3560ccad",
   "metadata": {},
   "outputs": [],
   "source": [
    "#looking into the weight elements to know if its positive or negative to effect lr additins\n"
   ]
  },
  {
   "cell_type": "code",
   "execution_count": 143,
   "id": "3556409e",
   "metadata": {},
   "outputs": [],
   "source": [
    "with torch.no_grad():\n",
    "    w -= w.grad * 1e-5\n",
    "    b -= b.grad * 1e-5\n",
    "    "
   ]
  },
  {
   "cell_type": "code",
   "execution_count": 154,
   "id": "18e7d9b1",
   "metadata": {},
   "outputs": [
    {
     "name": "stdout",
     "output_type": "stream",
     "text": [
      "tensor(1620.1523, grad_fn=<DivBackward0>)\n"
     ]
    }
   ],
   "source": [
    "#vcerifying if loss gets lower\n",
    "loss = mse(preds, yields)\n",
    "print(loss)"
   ]
  },
  {
   "cell_type": "code",
   "execution_count": 156,
   "id": "d50269d7",
   "metadata": {},
   "outputs": [],
   "source": [
    "#before proceeding we reset gradient to zero by .zero_( method\n",
    "#we accumate gradients)\n",
    "#if not empty new gradient will bw accumulated nd may be ismatching\n"
   ]
  },
  {
   "cell_type": "code",
   "execution_count": 157,
   "id": "935f3fc6",
   "metadata": {},
   "outputs": [
    {
     "name": "stdout",
     "output_type": "stream",
     "text": [
      "tensor([[0., 0., 0.],\n",
      "        [0., 0., 0.]])\n",
      "tensor([0., 0.])\n"
     ]
    }
   ],
   "source": [
    "w.grad.zero_()\n",
    "b.grad.zero_()\n",
    "print(w.grad)\n",
    "print(b.grad)"
   ]
  },
  {
   "cell_type": "markdown",
   "id": "58e677a0",
   "metadata": {},
   "source": [
    "Train the model using gradient descent\n",
    "As seen above, we reduce the loss and improve our model using the gradient descent optimization algorithm. Thus, we can train the model using the following steps:\n",
    "\n",
    "1. Generate predictions\n",
    "\n",
    "2. Calculate the loss\n",
    "\n",
    "3. Compute gradients w.r.t the weights and biases\n",
    "\n",
    "4. Adjust the weights by subtracting a small quantity proportional to the gradient\n",
    "\n",
    "5. Reset the gradients to zero\n",
    "\n",
    "Let's implement the above step by step."
   ]
  },
  {
   "cell_type": "code",
   "execution_count": 159,
   "id": "de8619bc",
   "metadata": {},
   "outputs": [
    {
     "name": "stdout",
     "output_type": "stream",
     "text": [
      "tensor([[ 75.0282,  46.6767],\n",
      "        [ 94.3992,  61.2147],\n",
      "        [156.7856,  54.3500],\n",
      "        [ 50.7426,  60.5958],\n",
      "        [ 98.7993,  51.7768]], grad_fn=<AddBackward0>)\n"
     ]
    }
   ],
   "source": [
    "#generating predictions\n",
    "preds = model(inputs)\n",
    "print(preds)"
   ]
  },
  {
   "cell_type": "code",
   "execution_count": 160,
   "id": "8c030db4",
   "metadata": {},
   "outputs": [
    {
     "name": "stdout",
     "output_type": "stream",
     "text": [
      "tensor(1620.1523, grad_fn=<DivBackward0>)\n"
     ]
    }
   ],
   "source": [
    "#calculate the loss\n",
    "loss = mse(preds, yields)\n",
    "print(loss)"
   ]
  },
  {
   "cell_type": "code",
   "execution_count": 161,
   "id": "111a3714",
   "metadata": {},
   "outputs": [
    {
     "name": "stdout",
     "output_type": "stream",
     "text": [
      "tensor([[ 1707.5244,  1669.9897,   927.3497],\n",
      "        [-2879.4475, -4208.3335, -2388.6870]])\n",
      "tensor([ 18.9510, -37.0772])\n"
     ]
    }
   ],
   "source": [
    "#compute gradients\n",
    "loss.backward()\n",
    "print(w.grad)\n",
    "print(b.grad)"
   ]
  },
  {
   "cell_type": "code",
   "execution_count": 162,
   "id": "aff4b44b",
   "metadata": {},
   "outputs": [],
   "source": [
    "#updating the weight and biases usig grad computed above\n",
    "# Adjust weights & reset gradients\n",
    "with torch.no_grad():\n",
    "    w -= w.grad * 1e-5\n",
    "    b -= b.grad * 1e-5\n",
    "    w.grad.zero_()\n",
    "    b.grad.zero_()"
   ]
  },
  {
   "cell_type": "code",
   "execution_count": 163,
   "id": "97749b2d",
   "metadata": {},
   "outputs": [
    {
     "name": "stdout",
     "output_type": "stream",
     "text": [
      "tensor([[ 0.1207,  1.2864, -0.5081],\n",
      "        [ 0.5249, -0.0210,  0.3540]], requires_grad=True)\n",
      "tensor([-0.8928,  0.4913], requires_grad=True)\n"
     ]
    },
    {
     "data": {
      "text/plain": [
       "(None, None)"
      ]
     },
     "execution_count": 163,
     "metadata": {},
     "output_type": "execute_result"
    }
   ],
   "source": [
    "print(w), print(b)"
   ]
  },
  {
   "cell_type": "code",
   "execution_count": 164,
   "id": "a8438883",
   "metadata": {},
   "outputs": [
    {
     "name": "stdout",
     "output_type": "stream",
     "text": [
      "tensor([-0.8928,  0.4913], requires_grad=True)\n"
     ]
    }
   ],
   "source": [
    "print(b)"
   ]
  },
  {
   "cell_type": "code",
   "execution_count": 167,
   "id": "20d6b8b3",
   "metadata": {},
   "outputs": [
    {
     "name": "stdout",
     "output_type": "stream",
     "text": [
      "tensor(1271.1565, grad_fn=<DivBackward0>)\n"
     ]
    }
   ],
   "source": [
    "# another phase\n",
    "# Calculate loss\n",
    "preds = model(inputs)\n",
    "loss = mse(preds, yields)\n",
    "print(loss)"
   ]
  },
  {
   "cell_type": "code",
   "execution_count": 170,
   "id": "fc15c281",
   "metadata": {},
   "outputs": [
    {
     "name": "stdout",
     "output_type": "stream",
     "text": [
      "tensor([[ 1422.6584,  1365.1045,   739.0721],\n",
      "        [-2262.7290, -3538.7498, -1977.0029]])\n",
      "tensor([ 15.5756, -29.7448])\n"
     ]
    }
   ],
   "source": [
    "loss.backward()\n",
    "print(w.grad)\n",
    "print(b.grad)"
   ]
  },
  {
   "cell_type": "code",
   "execution_count": 171,
   "id": "4801c2a2",
   "metadata": {},
   "outputs": [],
   "source": [
    "with torch.no_grad():\n",
    "    w -= w.grad * 1e-5\n",
    "    b -= b.grad * 1e-5\n",
    "    w.grad.zero_()\n",
    "    b.grad.zero_()"
   ]
  },
  {
   "cell_type": "code",
   "execution_count": 172,
   "id": "1c0e9abe",
   "metadata": {},
   "outputs": [
    {
     "name": "stdout",
     "output_type": "stream",
     "text": [
      "tensor([[ 0.1065,  1.2728, -0.5155],\n",
      "        [ 0.5475,  0.0144,  0.3738]], requires_grad=True)\n",
      "tensor([-0.8929,  0.4916], requires_grad=True)\n"
     ]
    }
   ],
   "source": [
    "print(w)\n",
    "print(b)"
   ]
  },
  {
   "cell_type": "code",
   "execution_count": 182,
   "id": "efe139cd",
   "metadata": {
    "scrolled": true
   },
   "outputs": [
    {
     "name": "stdout",
     "output_type": "stream",
     "text": [
      "tensor([[  804.3856,   704.2802,   330.8964],\n",
      "        [ -928.1915, -2084.1147, -1083.8682]])\n",
      "tensor([  8.2527, -13.8641])\n",
      "tensor([[ 0.0827,  1.2505, -0.5272],\n",
      "        [ 0.5827,  0.0742,  0.4065]], requires_grad=True)\n",
      "tensor([-0.8932,  0.4920], requires_grad=True)\n"
     ]
    }
   ],
   "source": [
    "preds = model(inputs) # this gene´ratzepredictions\n",
    "loss = mse(preds, yields) # this generate the loss functions\n",
    "loss.backward() # this generate the gradient descent( loss functions)\n",
    "print(w.grad)\n",
    "print(b.grad)\n",
    "print(w)\n",
    "print(b)\n",
    "with torch.no_grad():\n",
    "    w -= w.grad * 1e-5\n",
    "    b -= b.grad * 1e-5\n"
   ]
  },
  {
   "cell_type": "code",
   "execution_count": 192,
   "id": "bd5cfbba",
   "metadata": {},
   "outputs": [
    {
     "name": "stdout",
     "output_type": "stream",
     "text": [
      "tensor([[ 332.9548,  203.2930,   21.1538],\n",
      "        [  76.5511, -970.5517, -404.0930]])\n",
      "tensor([ 12.3967, -14.9448])\n",
      "tensor([[ 0.0507,  1.2240, -0.5383],\n",
      "        [ 0.6115,  0.1591,  0.4489]], requires_grad=True)\n",
      "tensor([-0.8935,  0.4925], requires_grad=True)\n"
     ]
    }
   ],
   "source": [
    "preds = model(inputs) # this gene´ratzepredictions\n",
    "loss = mse(preds, yields) # this generate the loss functions\n",
    "loss.backward() # this generate the gradient descent( loss functions)\n",
    "print(w.grad)\n",
    "print(b.grad)\n",
    "print(w)\n",
    "print(b)\n",
    "with torch.no_grad():\n",
    "    w -= w.grad * 1e-5\n",
    "    b -= b.grad * 1e-5\n",
    "    w.grad.zero_()\n",
    "    b.grad.zero_()"
   ]
  },
  {
   "cell_type": "code",
   "execution_count": 188,
   "id": "7652523f",
   "metadata": {},
   "outputs": [
    {
     "name": "stdout",
     "output_type": "stream",
     "text": [
      "tensor([[ 63.8575,  70.5592],\n",
      "        [ 79.8116,  92.8073],\n",
      "        [139.6227,  93.1640],\n",
      "        [ 39.3195,  82.6442],\n",
      "        [ 85.0336,  83.0767]], grad_fn=<AddBackward0>)\n"
     ]
    }
   ],
   "source": [
    "print(preds)"
   ]
  },
  {
   "cell_type": "code",
   "execution_count": 185,
   "id": "8982aee8",
   "metadata": {},
   "outputs": [],
   "source": [
    "#compute the loss\n",
    "with torch.no_grad():\n",
    "    w -= w.grad * 1e-5\n",
    "    b -= b.grad * 1e-5\n",
    "    w.grad.zero_()\n",
    "    b.grad.zero_()\n"
   ]
  },
  {
   "cell_type": "code",
   "execution_count": 193,
   "id": "86d1ca42",
   "metadata": {},
   "outputs": [
    {
     "name": "stdout",
     "output_type": "stream",
     "text": [
      "tensor([[ 61.6702,  75.0904],\n",
      "        [ 76.9825,  98.8640],\n",
      "        [136.3147, 101.0411],\n",
      "        [ 36.9950,  86.3133],\n",
      "        [ 82.4286,  89.3768]], grad_fn=<AddBackward0>)\n"
     ]
    }
   ],
   "source": [
    "print(preds)"
   ]
  },
  {
   "cell_type": "code",
   "execution_count": 194,
   "id": "6d781ae6",
   "metadata": {},
   "outputs": [
    {
     "name": "stdout",
     "output_type": "stream",
     "text": [
      "tensor([[ 56.,  70.],\n",
      "        [ 81., 101.],\n",
      "        [119., 133.],\n",
      "        [ 22.,  37.],\n",
      "        [103., 119.]])\n"
     ]
    }
   ],
   "source": [
    "print(yields)"
   ]
  },
  {
   "cell_type": "code",
   "execution_count": 200,
   "id": "f2d4f3d7",
   "metadata": {},
   "outputs": [],
   "source": [
    "# Train for 100 epochs\n",
    "for i in range(100):\n",
    "    preds = model(inputs)\n",
    "    loss = mse(preds, yields)\n",
    "    loss.backward()\n",
    "    with torch.no_grad():\n",
    "        w -= w.grad * 1e-5\n",
    "        b -= b.grad * 1e-5\n",
    "        w.grad.zero_()\n",
    "        b.grad.zero_()"
   ]
  },
  {
   "cell_type": "code",
   "execution_count": 198,
   "id": "b8c231a0",
   "metadata": {},
   "outputs": [
    {
     "data": {
      "text/plain": [
       "tensor([[ 58.3314,  73.1760],\n",
       "        [ 74.9727, 100.3704],\n",
       "        [133.2682, 129.0327],\n",
       "        [ 27.9210,  52.9782],\n",
       "        [ 85.1677, 109.3973]], grad_fn=<AddBackward0>)"
      ]
     },
     "execution_count": 198,
     "metadata": {},
     "output_type": "execute_result"
    }
   ],
   "source": [
    "preds"
   ]
  },
  {
   "cell_type": "code",
   "execution_count": 199,
   "id": "4b272446",
   "metadata": {},
   "outputs": [
    {
     "data": {
      "text/plain": [
       "tensor([[ 56.,  70.],\n",
       "        [ 81., 101.],\n",
       "        [119., 133.],\n",
       "        [ 22.,  37.],\n",
       "        [103., 119.]])"
      ]
     },
     "execution_count": 199,
     "metadata": {},
     "output_type": "execute_result"
    }
   ],
   "source": [
    "yields"
   ]
  },
  {
   "cell_type": "code",
   "execution_count": 201,
   "id": "ce56e6df",
   "metadata": {},
   "outputs": [
    {
     "name": "stdout",
     "output_type": "stream",
     "text": [
      "tensor([[ 58.0595,  71.9660],\n",
      "        [ 75.5065,  99.6490],\n",
      "        [132.4913, 132.6186],\n",
      "        [ 26.4126,  45.9555],\n",
      "        [ 86.9766, 112.2404]], grad_fn=<AddBackward0>)\n",
      "tensor([[ 56.,  70.],\n",
      "        [ 81., 101.],\n",
      "        [119., 133.],\n",
      "        [ 22.,  37.],\n",
      "        [103., 119.]])\n"
     ]
    }
   ],
   "source": [
    "print(preds)\n",
    "print(yields)"
   ]
  },
  {
   "cell_type": "code",
   "execution_count": 202,
   "id": "33f81f4a",
   "metadata": {},
   "outputs": [
    {
     "name": "stdout",
     "output_type": "stream",
     "text": [
      "tensor([[ 57.8845,  71.3160],\n",
      "        [ 76.0489,  99.3417],\n",
      "        [131.5388, 134.3625],\n",
      "        [ 25.4620,  42.1918],\n",
      "        [ 88.4751, 113.9020]], grad_fn=<AddBackward0>)\n",
      "tensor([[ 56.,  70.],\n",
      "        [ 81., 101.],\n",
      "        [119., 133.],\n",
      "        [ 22.,  37.],\n",
      "        [103., 119.]])\n"
     ]
    }
   ],
   "source": [
    "# Train for 100 epochs\n",
    "for i in range(100):\n",
    "    preds = model(inputs)\n",
    "    loss = mse(preds, yields)\n",
    "    loss.backward()\n",
    "    with torch.no_grad():\n",
    "        w -= w.grad * 1e-5\n",
    "        b -= b.grad * 1e-5\n",
    "        w.grad.zero_()\n",
    "        b.grad.zero_()\n",
    "print(preds)\n",
    "print(yields)"
   ]
  },
  {
   "cell_type": "code",
   "execution_count": 203,
   "id": "ce420fcc",
   "metadata": {},
   "outputs": [],
   "source": [
    "#using building neural network\n",
    "inputs = np.array([\n",
    "    [73,67,43],\n",
    "    [91,88,64],\n",
    "    [87,134,58],\n",
    "    [102,43,37],\n",
    "    [69,96,70],\n",
    "    [74,66,43],\n",
    "    [91, 87, 65],\n",
    "    [88, 134, 59], \n",
    "    [101, 44, 37], \n",
    "    [68, 96, 71], \n",
    "    [73, 66, 44], \n",
    "    [92, 87, 64], \n",
    "    [87, 135, 57], \n",
    "    [103, 43, 36], \n",
    "     [68, 97, 70]], \n",
    "   dtype='float32')"
   ]
  },
  {
   "cell_type": "code",
   "execution_count": 204,
   "id": "8402e9ad",
   "metadata": {},
   "outputs": [],
   "source": [
    "targets = np.array([[56, 70], \n",
    "                    [81, 101], \n",
    "                    [119, 133], \n",
    "                    [22, 37], \n",
    "                    [103, 119],\n",
    "                    [57, 69], \n",
    "                    [80, 102], \n",
    "                    [118, 132], \n",
    "                    [21, 38], \n",
    "                    [104, 118], \n",
    "                    [57, 69], \n",
    "                    [82, 100], \n",
    "                    [118, 134], \n",
    "                    [20, 38], \n",
    "                    [102, 120]], \n",
    "                   dtype='float32')"
   ]
  },
  {
   "cell_type": "code",
   "execution_count": 206,
   "id": "b019b9b3",
   "metadata": {},
   "outputs": [],
   "source": [
    "#making numpy to tensor\n",
    "inputs = torch.from_numpy(inputs)\n",
    "targets = torch.from_numpy(targets)"
   ]
  },
  {
   "cell_type": "code",
   "execution_count": 208,
   "id": "586efbfd",
   "metadata": {},
   "outputs": [
    {
     "name": "stdout",
     "output_type": "stream",
     "text": [
      "tensor([[ 73.,  67.,  43.],\n",
      "        [ 91.,  88.,  64.],\n",
      "        [ 87., 134.,  58.],\n",
      "        [102.,  43.,  37.],\n",
      "        [ 69.,  96.,  70.],\n",
      "        [ 74.,  66.,  43.],\n",
      "        [ 91.,  87.,  65.],\n",
      "        [ 88., 134.,  59.],\n",
      "        [101.,  44.,  37.],\n",
      "        [ 68.,  96.,  71.],\n",
      "        [ 73.,  66.,  44.],\n",
      "        [ 92.,  87.,  64.],\n",
      "        [ 87., 135.,  57.],\n",
      "        [103.,  43.,  36.],\n",
      "        [ 68.,  97.,  70.]])\n",
      "tensor([[ 56.,  70.],\n",
      "        [ 81., 101.],\n",
      "        [119., 133.],\n",
      "        [ 22.,  37.],\n",
      "        [103., 119.],\n",
      "        [ 57.,  69.],\n",
      "        [ 80., 102.],\n",
      "        [118., 132.],\n",
      "        [ 21.,  38.],\n",
      "        [104., 118.],\n",
      "        [ 57.,  69.],\n",
      "        [ 82., 100.],\n",
      "        [118., 134.],\n",
      "        [ 20.,  38.],\n",
      "        [102., 120.]])\n"
     ]
    }
   ],
   "source": [
    "print(inputs)\n",
    "print(targets)"
   ]
  },
  {
   "cell_type": "code",
   "execution_count": 209,
   "id": "ff7a9d74",
   "metadata": {},
   "outputs": [],
   "source": [
    "#using datasets loader\n",
    "#dataloadr do have inputs and taget together as tuples, the providethen in batches for usages\n",
    "#datasets contains tuple of input and outputs\n",
    "from torch.utils.data import TensorDataset"
   ]
  },
  {
   "cell_type": "code",
   "execution_count": 216,
   "id": "03ddd83b",
   "metadata": {},
   "outputs": [],
   "source": [
    "train_ds = TensorDataset(inputs, targets)"
   ]
  },
  {
   "cell_type": "code",
   "execution_count": 220,
   "id": "c7011c7e",
   "metadata": {},
   "outputs": [],
   "source": [
    "from torch.utils.data import DataLoader"
   ]
  },
  {
   "cell_type": "code",
   "execution_count": 221,
   "id": "1beda07e",
   "metadata": {},
   "outputs": [],
   "source": [
    "\n",
    "train_dl = DataLoader(train_ds, batch_size = 5 , shuffle = True)"
   ]
  },
  {
   "cell_type": "code",
   "execution_count": 225,
   "id": "db7f8a35",
   "metadata": {},
   "outputs": [
    {
     "name": "stdout",
     "output_type": "stream",
     "text": [
      "tensor([[103.,  43.,  36.],\n",
      "        [ 91.,  87.,  65.],\n",
      "        [ 69.,  96.,  70.],\n",
      "        [ 68.,  97.,  70.],\n",
      "        [ 87., 135.,  57.]])\n",
      "tensor([[ 20.,  38.],\n",
      "        [ 80., 102.],\n",
      "        [103., 119.],\n",
      "        [102., 120.],\n",
      "        [118., 134.]])\n"
     ]
    }
   ],
   "source": [
    "for x, y in train_dl:\n",
    "    print(x)\n",
    "    print(y)\n",
    "\n",
    "    break"
   ]
  },
  {
   "cell_type": "code",
   "execution_count": 231,
   "id": "22727e31",
   "metadata": {},
   "outputs": [
    {
     "name": "stdout",
     "output_type": "stream",
     "text": [
      "Parameter containing:\n",
      "tensor([[-0.1484, -0.5734,  0.5503],\n",
      "        [ 0.5417, -0.0968, -0.3921]], requires_grad=True)\n",
      "Parameter containing:\n",
      "tensor([-0.2256,  0.2434], requires_grad=True)\n"
     ]
    }
   ],
   "source": [
    "#model is automatically call using nn.linear\n",
    "import torch.nn as nn\n",
    "model = nn.Linear(3,2)\n",
    "print(model.weight)\n",
    "print(model.bias)\n",
    "#using list(model.paramer) produces matrix of W and b in the model"
   ]
  },
  {
   "cell_type": "code",
   "execution_count": 236,
   "id": "1d8ba919",
   "metadata": {},
   "outputs": [
    {
     "data": {
      "text/plain": [
       "[Parameter containing:\n",
       " tensor([[-0.1484, -0.5734,  0.5503],\n",
       "         [ 0.5417, -0.0968, -0.3921]], requires_grad=True),\n",
       " Parameter containing:\n",
       " tensor([-0.2256,  0.2434], requires_grad=True)]"
      ]
     },
     "execution_count": 236,
     "metadata": {},
     "output_type": "execute_result"
    }
   ],
   "source": [
    "list(model.parameters())"
   ]
  },
  {
   "cell_type": "code",
   "execution_count": 238,
   "id": "65ad295e",
   "metadata": {},
   "outputs": [
    {
     "data": {
      "text/plain": [
       "tensor([[-2.5812e+01,  1.6444e+01],\n",
       "        [-2.8967e+01,  1.5928e+01],\n",
       "        [-5.8050e+01,  1.1663e+01],\n",
       "        [-1.9657e+01,  3.6828e+01],\n",
       "        [-2.6987e+01,  8.8357e-01],\n",
       "        [-2.5387e+01,  1.7082e+01],\n",
       "        [-2.7843e+01,  1.5633e+01],\n",
       "        [-5.7648e+01,  1.1813e+01],\n",
       "        [-2.0082e+01,  3.6190e+01],\n",
       "        [-2.6288e+01, -5.0274e-02],\n",
       "        [-2.4688e+01,  1.6149e+01],\n",
       "        [-2.8542e+01,  1.6567e+01],\n",
       "        [-5.9173e+01,  1.1959e+01],\n",
       "        [-2.0355e+01,  3.7762e+01],\n",
       "        [-2.7412e+01,  2.4511e-01]], grad_fn=<AddmmBackward>)"
      ]
     },
     "execution_count": 238,
     "metadata": {},
     "output_type": "execute_result"
    }
   ],
   "source": [
    "#generating predictions\n",
    "preds = model(inputs)\n",
    "preds"
   ]
  },
  {
   "cell_type": "code",
   "execution_count": 247,
   "id": "2b727b4c",
   "metadata": {},
   "outputs": [
    {
     "name": "stdout",
     "output_type": "stream",
     "text": [
      "tensor(10722.1299, grad_fn=<MseLossBackward>)\n"
     ]
    }
   ],
   "source": [
    "#loss function using \n",
    "import torch.nn.functional as F\n",
    "loss = F.mse_loss(preds, targets)\n",
    "print(loss)\n",
    "loss_fn = F.mse_loss"
   ]
  },
  {
   "cell_type": "code",
   "execution_count": 241,
   "id": "ef0f5e33",
   "metadata": {},
   "outputs": [],
   "source": [
    "opt = torch.optim.SGD(model.parameters(), lr=1e-5)"
   ]
  },
  {
   "cell_type": "code",
   "execution_count": 248,
   "id": "27f1d237",
   "metadata": {},
   "outputs": [],
   "source": [
    "# Utility function to train the model\n",
    "def fit(num_epochs, model, loss_fn, opt, train_dl):\n",
    "    \n",
    "    # Repeat for given number of epochs\n",
    "    for epoch in range(num_epochs):\n",
    "        \n",
    "        # Train with batches of data\n",
    "        for xb,yb in train_dl:\n",
    "            \n",
    "            # 1. Generate predictions\n",
    "            pred = model(xb)\n",
    "            \n",
    "            # 2. Calculate loss\n",
    "            loss = loss_fn(pred, yb)\n",
    "            \n",
    "            # 3. Compute gradients\n",
    "            loss.backward()\n",
    "            \n",
    "            # 4. Update parameters using gradients\n",
    "            opt.step()\n",
    "            \n",
    "            # 5. Reset the gradients to zero\n",
    "            opt.zero_grad()\n",
    "        \n",
    "        # Print the progress\n",
    "        if (epoch+1) % 10 == 0:\n",
    "            print('Epoch [{}/{}], Loss: {:.4f}'.format(epoch+1, num_epochs, loss.item()))"
   ]
  },
  {
   "cell_type": "code",
   "execution_count": 270,
   "id": "dfe510a9",
   "metadata": {},
   "outputs": [
    {
     "name": "stdout",
     "output_type": "stream",
     "text": [
      "Epoch [10/100], Loss: 0.9470\n",
      "Epoch [20/100], Loss: 1.0958\n",
      "Epoch [30/100], Loss: 0.9873\n",
      "Epoch [40/100], Loss: 1.4695\n",
      "Epoch [50/100], Loss: 1.5695\n",
      "Epoch [60/100], Loss: 0.9671\n",
      "Epoch [70/100], Loss: 0.9352\n",
      "Epoch [80/100], Loss: 1.1686\n",
      "Epoch [90/100], Loss: 0.9399\n",
      "Epoch [100/100], Loss: 0.9563\n"
     ]
    }
   ],
   "source": [
    "fit(100, model, loss_fn, opt, train_dl)"
   ]
  },
  {
   "cell_type": "code",
   "execution_count": 271,
   "id": "f1f78b80",
   "metadata": {},
   "outputs": [
    {
     "data": {
      "text/plain": [
       "tensor([[ 56.9236,  70.4317],\n",
       "        [ 82.0874, 100.4719],\n",
       "        [118.1837, 132.8397],\n",
       "        [ 20.8297,  37.7599],\n",
       "        [101.8994, 118.4332],\n",
       "        [ 55.6792,  69.3508],\n",
       "        [ 81.9485, 100.5607],\n",
       "        [118.4831, 133.4354],\n",
       "        [ 22.0740,  38.8408],\n",
       "        [103.0049, 119.6029],\n",
       "        [ 56.7847,  70.5205],\n",
       "        [ 80.8430,  99.3910],\n",
       "        [118.3225, 132.7508],\n",
       "        [ 19.7242,  36.5902],\n",
       "        [103.1437, 119.5141]], grad_fn=<AddmmBackward>)"
      ]
     },
     "execution_count": 271,
     "metadata": {},
     "output_type": "execute_result"
    }
   ],
   "source": [
    "model(inputs)"
   ]
  },
  {
   "cell_type": "code",
   "execution_count": 254,
   "id": "29a7c793",
   "metadata": {
    "scrolled": true
   },
   "outputs": [
    {
     "data": {
      "text/plain": [
       "tensor([[ 56.,  70.],\n",
       "        [ 81., 101.],\n",
       "        [119., 133.],\n",
       "        [ 22.,  37.],\n",
       "        [103., 119.],\n",
       "        [ 57.,  69.],\n",
       "        [ 80., 102.],\n",
       "        [118., 132.],\n",
       "        [ 21.,  38.],\n",
       "        [104., 118.],\n",
       "        [ 57.,  69.],\n",
       "        [ 82., 100.],\n",
       "        [118., 134.],\n",
       "        [ 20.,  38.],\n",
       "        [102., 120.]])"
      ]
     },
     "execution_count": 254,
     "metadata": {},
     "output_type": "execute_result"
    }
   ],
   "source": [
    "targets"
   ]
  },
  {
   "cell_type": "code",
   "execution_count": null,
   "id": "cb784597",
   "metadata": {},
   "outputs": [],
   "source": []
  }
 ],
 "metadata": {
  "kernelspec": {
   "display_name": "Python 3 (ipykernel)",
   "language": "python",
   "name": "python3"
  },
  "language_info": {
   "codemirror_mode": {
    "name": "ipython",
    "version": 3
   },
   "file_extension": ".py",
   "mimetype": "text/x-python",
   "name": "python",
   "nbconvert_exporter": "python",
   "pygments_lexer": "ipython3",
   "version": "3.8.12"
  },
  "latex_envs": {
   "LaTeX_envs_menu_present": true,
   "autoclose": true,
   "autocomplete": true,
   "bibliofile": "biblio.bib",
   "cite_by": "apalike",
   "current_citInitial": 1,
   "eqLabelWithNumbers": true,
   "eqNumInitial": 1,
   "hotkeys": {
    "equation": "Ctrl-E",
    "itemize": "Ctrl-I"
   },
   "labels_anchors": false,
   "latex_user_defs": false,
   "report_style_numbering": false,
   "user_envs_cfg": false
  },
  "toc": {
   "base_numbering": 1,
   "nav_menu": {},
   "number_sections": true,
   "sideBar": true,
   "skip_h1_title": false,
   "title_cell": "Table of Contents",
   "title_sidebar": "Contents",
   "toc_cell": false,
   "toc_position": {},
   "toc_section_display": true,
   "toc_window_display": false
  },
  "varInspector": {
   "cols": {
    "lenName": 16,
    "lenType": 16,
    "lenVar": 40
   },
   "kernels_config": {
    "python": {
     "delete_cmd_postfix": "",
     "delete_cmd_prefix": "del ",
     "library": "var_list.py",
     "varRefreshCmd": "print(var_dic_list())"
    },
    "r": {
     "delete_cmd_postfix": ") ",
     "delete_cmd_prefix": "rm(",
     "library": "var_list.r",
     "varRefreshCmd": "cat(var_dic_list()) "
    }
   },
   "types_to_exclude": [
    "module",
    "function",
    "builtin_function_or_method",
    "instance",
    "_Feature"
   ],
   "window_display": false
  }
 },
 "nbformat": 4,
 "nbformat_minor": 5
}
